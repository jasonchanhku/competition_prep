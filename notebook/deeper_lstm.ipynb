{
 "cells": [
  {
   "cell_type": "markdown",
   "metadata": {},
   "source": [
    "# Deeper LSTM"
   ]
  },
  {
   "cell_type": "code",
   "execution_count": 2,
   "metadata": {},
   "outputs": [],
   "source": [
    "# Importing the libraries\n",
    "import numpy as np\n",
    "import matplotlib.pyplot as plt\n",
    "import seaborn as sns\n",
    "import pandas as pd\n",
    "from sklearn.preprocessing import MinMaxScaler\n",
    "from keras.models import Sequential\n",
    "from keras.layers import Dense, LSTM, Dropout, GRU, Bidirectional\n",
    "from keras.optimizers import SGD\n",
    "import math\n",
    "from sklearn.metrics import mean_squared_error, mean_absolute_error\n",
    "import os"
   ]
  },
  {
   "cell_type": "code",
   "execution_count": 3,
   "metadata": {},
   "outputs": [],
   "source": [
    "data_source_dir = r'/home/jasonchandatascience/competition_prep/data/djia'"
   ]
  },
  {
   "cell_type": "code",
   "execution_count": 4,
   "metadata": {},
   "outputs": [],
   "source": [
    "def GetPath(file, directory=data_source_dir):\n",
    "    return os.path.join(directory, file)"
   ]
  },
  {
   "cell_type": "code",
   "execution_count": 51,
   "metadata": {},
   "outputs": [],
   "source": [
    "# Some functions to help out with\n",
    "def plot_predictions(test,predicted):\n",
    "    plt.plot(test, color='red',label='Real IBM Stock Price')\n",
    "    plt.plot(predicted, color='blue',label='Predicted IBM Stock Price')\n",
    "    plt.title('IBM Stock Price Prediction')\n",
    "    plt.xlabel('Time')\n",
    "    plt.ylabel('IBM Stock Price')\n",
    "    plt.legend()\n",
    "    plt.show()\n",
    "\n",
    "def return_rmse(test,predicted):\n",
    "    rmse = math.sqrt(mean_squared_error(test, predicted))\n",
    "    print(\"The root mean squared error is {}.\".format(rmse))"
   ]
  },
  {
   "cell_type": "code",
   "execution_count": 6,
   "metadata": {},
   "outputs": [
    {
     "data": {
      "text/html": [
       "<div>\n",
       "<style scoped>\n",
       "    .dataframe tbody tr th:only-of-type {\n",
       "        vertical-align: middle;\n",
       "    }\n",
       "\n",
       "    .dataframe tbody tr th {\n",
       "        vertical-align: top;\n",
       "    }\n",
       "\n",
       "    .dataframe thead th {\n",
       "        text-align: right;\n",
       "    }\n",
       "</style>\n",
       "<table border=\"1\" class=\"dataframe\">\n",
       "  <thead>\n",
       "    <tr style=\"text-align: right;\">\n",
       "      <th></th>\n",
       "      <th>Open</th>\n",
       "      <th>High</th>\n",
       "      <th>Low</th>\n",
       "      <th>Close</th>\n",
       "      <th>Volume</th>\n",
       "      <th>Name</th>\n",
       "    </tr>\n",
       "    <tr>\n",
       "      <th>Date</th>\n",
       "      <th></th>\n",
       "      <th></th>\n",
       "      <th></th>\n",
       "      <th></th>\n",
       "      <th></th>\n",
       "      <th></th>\n",
       "    </tr>\n",
       "  </thead>\n",
       "  <tbody>\n",
       "    <tr>\n",
       "      <th>2006-01-03</th>\n",
       "      <td>82.45</td>\n",
       "      <td>82.55</td>\n",
       "      <td>80.81</td>\n",
       "      <td>82.06</td>\n",
       "      <td>11715200</td>\n",
       "      <td>IBM</td>\n",
       "    </tr>\n",
       "    <tr>\n",
       "      <th>2006-01-04</th>\n",
       "      <td>82.20</td>\n",
       "      <td>82.50</td>\n",
       "      <td>81.33</td>\n",
       "      <td>81.95</td>\n",
       "      <td>9840600</td>\n",
       "      <td>IBM</td>\n",
       "    </tr>\n",
       "    <tr>\n",
       "      <th>2006-01-05</th>\n",
       "      <td>81.40</td>\n",
       "      <td>82.90</td>\n",
       "      <td>81.00</td>\n",
       "      <td>82.50</td>\n",
       "      <td>7213500</td>\n",
       "      <td>IBM</td>\n",
       "    </tr>\n",
       "    <tr>\n",
       "      <th>2006-01-06</th>\n",
       "      <td>83.95</td>\n",
       "      <td>85.03</td>\n",
       "      <td>83.41</td>\n",
       "      <td>84.95</td>\n",
       "      <td>8197400</td>\n",
       "      <td>IBM</td>\n",
       "    </tr>\n",
       "    <tr>\n",
       "      <th>2006-01-09</th>\n",
       "      <td>84.10</td>\n",
       "      <td>84.25</td>\n",
       "      <td>83.38</td>\n",
       "      <td>83.73</td>\n",
       "      <td>6858200</td>\n",
       "      <td>IBM</td>\n",
       "    </tr>\n",
       "  </tbody>\n",
       "</table>\n",
       "</div>"
      ],
      "text/plain": [
       "             Open   High    Low  Close    Volume Name\n",
       "Date                                                 \n",
       "2006-01-03  82.45  82.55  80.81  82.06  11715200  IBM\n",
       "2006-01-04  82.20  82.50  81.33  81.95   9840600  IBM\n",
       "2006-01-05  81.40  82.90  81.00  82.50   7213500  IBM\n",
       "2006-01-06  83.95  85.03  83.41  84.95   8197400  IBM\n",
       "2006-01-09  84.10  84.25  83.38  83.73   6858200  IBM"
      ]
     },
     "execution_count": 6,
     "metadata": {},
     "output_type": "execute_result"
    }
   ],
   "source": [
    "# First, we get the data\n",
    "dataset = pd.read_csv(GetPath('IBM_2006-01-01_to_2018-01-01.csv'), index_col='Date', parse_dates=['Date'])\n",
    "dataset.head()"
   ]
  },
  {
   "cell_type": "code",
   "execution_count": 9,
   "metadata": {},
   "outputs": [],
   "source": [
    "training_set = dataset[:'2016'].iloc[:, 1:2].values\n",
    "test_set = dataset['2017':].iloc[:, 1:2].values"
   ]
  },
  {
   "cell_type": "code",
   "execution_count": 20,
   "metadata": {},
   "outputs": [
    {
     "data": {
      "image/png": "[encoded data removed]",
      "text/plain": [
       "<Figure size 1152x288 with 1 Axes>"
      ]
     },
     "metadata": {},
     "output_type": "display_data"
    }
   ],
   "source": [
    "# We have chosen 'High' attribute for prices. Let's see what it looks like\n",
    "dataset[\"High\"][:'2016'].plot(figsize=(16,4),legend=True)\n",
    "dataset[\"High\"]['2017':].plot(figsize=(16,4),legend=True)\n",
    "plt.legend(['Training set (Before 2017)','Test set (2017 and beyond)'])\n",
    "plt.title('IBM stock price')\n",
    "plt.show()"
   ]
  },
  {
   "cell_type": "markdown",
   "metadata": {},
   "source": [
    "# Univariate"
   ]
  },
  {
   "cell_type": "code",
   "execution_count": 22,
   "metadata": {},
   "outputs": [],
   "source": [
    "sc = MinMaxScaler()"
   ]
  },
  {
   "cell_type": "code",
   "execution_count": 23,
   "metadata": {},
   "outputs": [],
   "source": [
    "training_set_scaled = sc.fit_transform(training_set)"
   ]
  },
  {
   "cell_type": "code",
   "execution_count": 47,
   "metadata": {},
   "outputs": [],
   "source": [
    "X_train = []\n",
    "y_train = []\n",
    "\n",
    "seq_len = 60\n",
    "\n",
    "for i in range(seq_len, len(training_set_scaled)):\n",
    "    X_train.append(training_set_scaled[i-seq_len:i, 0])\n",
    "    y_train.append(training_set_scaled[i, 0])\n",
    "    "
   ]
  },
  {
   "cell_type": "code",
   "execution_count": 49,
   "metadata": {},
   "outputs": [],
   "source": [
    "X_train, y_train = np.array(X_train), np.array(y_train)"
   ]
  },
  {
   "cell_type": "code",
   "execution_count": 51,
   "metadata": {},
   "outputs": [
    {
     "data": {
      "text/plain": [
       "(2709,)"
      ]
     },
     "execution_count": 51,
     "metadata": {},
     "output_type": "execute_result"
    }
   ],
   "source": [
    "# reshape X_train into [samples, timesteps, features]"
   ]
  },
  {
   "cell_type": "code",
   "execution_count": 56,
   "metadata": {},
   "outputs": [],
   "source": [
    "X_train = X_train.reshape(X_train.shape[0], X_train.shape[1], 1)"
   ]
  },
  {
   "cell_type": "code",
   "execution_count": 10,
   "metadata": {},
   "outputs": [],
   "source": [
    "# to make sure test set has 60 values before\n",
    "dataset_total = pd.concat([dataset[\"High\"][:'2016'],dataset[\"High\"]['2017':]], axis=0)"
   ]
  },
  {
   "cell_type": "code",
   "execution_count": 11,
   "metadata": {},
   "outputs": [],
   "source": [
    "inputs = dataset_total[len(dataset_total) - len(test_set) - 60 :].values"
   ]
  },
  {
   "cell_type": "code",
   "execution_count": 65,
   "metadata": {},
   "outputs": [],
   "source": [
    "inputs = inputs.reshape(-1, 1)\n",
    "inputs = sc.transform(inputs)"
   ]
  },
  {
   "cell_type": "code",
   "execution_count": 86,
   "metadata": {},
   "outputs": [],
   "source": [
    "X_test = []\n",
    "y_test = []\n",
    "\n",
    "\n",
    "for i in range(seq_len, len(inputs)):\n",
    "    X_test.append(inputs[i-seq_len:i, 0])\n",
    "    y_test.append(inputs[i, 0])\n",
    "\n",
    "X_test, y_test = np.array(X_test), np.array(y_test)"
   ]
  },
  {
   "cell_type": "code",
   "execution_count": 87,
   "metadata": {},
   "outputs": [],
   "source": [
    "X_test = X_test.reshape(-1, seq_len, 1)"
   ]
  },
  {
   "cell_type": "code",
   "execution_count": 77,
   "metadata": {},
   "outputs": [
    {
     "name": "stdout",
     "output_type": "stream",
     "text": [
      "Train on 2709 samples, validate on 251 samples\n",
      "Epoch 1/50\n",
      "2709/2709 [==============================] - 26s 9ms/step - loss: 0.0244 - val_loss: 4.1651e-04\n",
      "Epoch 2/50\n",
      "2709/2709 [==============================] - 19s 7ms/step - loss: 0.0109 - val_loss: 4.0255e-04\n",
      "Epoch 3/50\n",
      "2709/2709 [==============================] - 23s 8ms/step - loss: 0.0081 - val_loss: 3.0976e-04\n",
      "Epoch 4/50\n",
      "2709/2709 [==============================] - 20s 8ms/step - loss: 0.0073 - val_loss: 4.2598e-04\n",
      "Epoch 5/50\n",
      "2709/2709 [==============================] - 20s 7ms/step - loss: 0.0065 - val_loss: 3.8470e-04\n",
      "Epoch 6/50\n",
      "2709/2709 [==============================] - 19s 7ms/step - loss: 0.0057 - val_loss: 5.1480e-04\n",
      "Epoch 7/50\n",
      "2709/2709 [==============================] - 20s 7ms/step - loss: 0.0050 - val_loss: 4.8605e-04\n",
      "Epoch 8/50\n",
      "2709/2709 [==============================] - 20s 7ms/step - loss: 0.0049 - val_loss: 7.2491e-04\n",
      "Epoch 9/50\n",
      "2709/2709 [==============================] - 23s 9ms/step - loss: 0.0043 - val_loss: 8.6914e-04\n",
      "Epoch 10/50\n",
      "2709/2709 [==============================] - 20s 7ms/step - loss: 0.0039 - val_loss: 5.2893e-04\n",
      "Epoch 11/50\n",
      "2709/2709 [==============================] - 19s 7ms/step - loss: 0.0038 - val_loss: 1.5163e-04\n",
      "Epoch 12/50\n",
      "2709/2709 [==============================] - 20s 7ms/step - loss: 0.0034 - val_loss: 2.1341e-04\n",
      "Epoch 13/50\n",
      "2709/2709 [==============================] - 20s 7ms/step - loss: 0.0034 - val_loss: 0.0014\n",
      "Epoch 14/50\n",
      "2709/2709 [==============================] - 20s 7ms/step - loss: 0.0033 - val_loss: 4.0836e-04\n",
      "Epoch 15/50\n",
      "2709/2709 [==============================] - 20s 7ms/step - loss: 0.0031 - val_loss: 2.5041e-04\n",
      "Epoch 16/50\n",
      "2709/2709 [==============================] - 20s 7ms/step - loss: 0.0031 - val_loss: 1.4226e-04\n",
      "Epoch 17/50\n",
      "2709/2709 [==============================] - 19s 7ms/step - loss: 0.0028 - val_loss: 1.2236e-04\n",
      "Epoch 18/50\n",
      "2709/2709 [==============================] - 22s 8ms/step - loss: 0.0028 - val_loss: 3.0750e-04\n",
      "Epoch 19/50\n",
      "2709/2709 [==============================] - 20s 7ms/step - loss: 0.0027 - val_loss: 0.0037\n",
      "Epoch 20/50\n",
      "2709/2709 [==============================] - 20s 7ms/step - loss: 0.0026 - val_loss: 8.5738e-04\n",
      "Epoch 21/50\n",
      "2709/2709 [==============================] - 20s 7ms/step - loss: 0.0024 - val_loss: 9.5411e-04\n",
      "Epoch 22/50\n",
      "2709/2709 [==============================] - 19s 7ms/step - loss: 0.0024 - val_loss: 0.0024\n",
      "Epoch 23/50\n",
      "2709/2709 [==============================] - 19s 7ms/step - loss: 0.0023 - val_loss: 1.0379e-04\n",
      "Epoch 24/50\n",
      "2709/2709 [==============================] - 19s 7ms/step - loss: 0.0022 - val_loss: 1.0824e-04\n",
      "Epoch 25/50\n",
      "2709/2709 [==============================] - 24s 9ms/step - loss: 0.0023 - val_loss: 0.0027\n",
      "Epoch 26/50\n",
      "2709/2709 [==============================] - 20s 7ms/step - loss: 0.0022 - val_loss: 1.6518e-04\n",
      "Epoch 27/50\n",
      "2709/2709 [==============================] - 19s 7ms/step - loss: 0.0022 - val_loss: 7.0775e-04\n",
      "Epoch 28/50\n",
      "2709/2709 [==============================] - 20s 7ms/step - loss: 0.0021 - val_loss: 3.3759e-04\n",
      "Epoch 29/50\n",
      "2709/2709 [==============================] - 19s 7ms/step - loss: 0.0021 - val_loss: 0.0021\n",
      "Epoch 30/50\n",
      "2709/2709 [==============================] - 19s 7ms/step - loss: 0.0021 - val_loss: 6.0510e-04\n",
      "Epoch 31/50\n",
      "2709/2709 [==============================] - 20s 7ms/step - loss: 0.0019 - val_loss: 0.0013\n",
      "Epoch 32/50\n",
      "2709/2709 [==============================] - 20s 7ms/step - loss: 0.0020 - val_loss: 0.0016\n",
      "Epoch 33/50\n",
      "2709/2709 [==============================] - 20s 7ms/step - loss: 0.0020 - val_loss: 2.3840e-04\n",
      "Epoch 34/50\n",
      "2709/2709 [==============================] - 22s 8ms/step - loss: 0.0019 - val_loss: 2.4543e-04\n",
      "Epoch 35/50\n",
      "2709/2709 [==============================] - 20s 7ms/step - loss: 0.0018 - val_loss: 0.0011\n",
      "Epoch 36/50\n",
      "2709/2709 [==============================] - 19s 7ms/step - loss: 0.0017 - val_loss: 8.4570e-04\n",
      "Epoch 37/50\n",
      "2709/2709 [==============================] - 19s 7ms/step - loss: 0.0018 - val_loss: 3.4237e-04\n",
      "Epoch 38/50\n",
      "2709/2709 [==============================] - 20s 7ms/step - loss: 0.0017 - val_loss: 0.0017\n",
      "Epoch 39/50\n",
      "2709/2709 [==============================] - 19s 7ms/step - loss: 0.0017 - val_loss: 7.5513e-04\n",
      "Epoch 40/50\n",
      "2709/2709 [==============================] - 22s 8ms/step - loss: 0.0017 - val_loss: 0.0023\n",
      "Epoch 41/50\n",
      "2709/2709 [==============================] - 22s 8ms/step - loss: 0.0016 - val_loss: 0.0011\n",
      "Epoch 42/50\n",
      "2709/2709 [==============================] - 19s 7ms/step - loss: 0.0016 - val_loss: 7.8938e-05\n",
      "Epoch 43/50\n",
      "2709/2709 [==============================] - 19s 7ms/step - loss: 0.0015 - val_loss: 7.9561e-05\n",
      "Epoch 44/50\n",
      "2709/2709 [==============================] - 20s 7ms/step - loss: 0.0016 - val_loss: 6.2982e-05\n",
      "Epoch 45/50\n",
      "2709/2709 [==============================] - 19s 7ms/step - loss: 0.0015 - val_loss: 8.8530e-04\n",
      "Epoch 46/50\n",
      "2709/2709 [==============================] - 19s 7ms/step - loss: 0.0015 - val_loss: 5.0821e-04\n",
      "Epoch 47/50\n",
      "2709/2709 [==============================] - 20s 7ms/step - loss: 0.0016 - val_loss: 2.1292e-04\n",
      "Epoch 48/50\n",
      "2709/2709 [==============================] - 19s 7ms/step - loss: 0.0014 - val_loss: 1.2760e-04\n",
      "Epoch 49/50\n",
      "2709/2709 [==============================] - 22s 8ms/step - loss: 0.0015 - val_loss: 3.0701e-04\n",
      "Epoch 50/50\n",
      "2709/2709 [==============================] - 21s 8ms/step - loss: 0.0014 - val_loss: 8.6247e-04\n"
     ]
    },
    {
     "data": {
      "text/plain": [
       "<keras.callbacks.History at 0x7fec042d4e48>"
      ]
     },
     "execution_count": 77,
     "metadata": {},
     "output_type": "execute_result"
    }
   ],
   "source": [
    "regressor = Sequential()\n",
    "\n",
    "regressor.add(LSTM(50, return_sequences=True, input_shape=(X_train.shape[1], 1)))\n",
    "regressor.add(Dropout(0.2))\n",
    "\n",
    "regressor.add(LSTM(units=50, return_sequences=True))\n",
    "regressor.add(Dropout(0.2))\n",
    "# Third LSTM layer\n",
    "regressor.add(LSTM(units=50, return_sequences=True))\n",
    "regressor.add(Dropout(0.2))\n",
    "# Fourth LSTM layer\n",
    "regressor.add(LSTM(units=50))\n",
    "regressor.add(Dropout(0.2))\n",
    "# The output layer\n",
    "regressor.add(Dense(units=1))\n",
    "\n",
    "# Compiling the RNN\n",
    "regressor.compile(optimizer='rmsprop',loss='mean_squared_error')\n",
    "# Fitting to the training set\n",
    "regressor.fit(X_train,y_train,epochs=50,batch_size=32, validation_data=(X_test, y_test))"
   ]
  },
  {
   "cell_type": "code",
   "execution_count": 88,
   "metadata": {},
   "outputs": [],
   "source": [
    "lstm_prediction = regressor.predict(X_test)\n",
    "lstm_prediction = sc.inverse_transform(lstm_prediction)"
   ]
  },
  {
   "cell_type": "code",
   "execution_count": 89,
   "metadata": {},
   "outputs": [
    {
     "data": {
      "image/png": "[encoded data removed]",
      "text/plain": [
       "<Figure size 432x288 with 1 Axes>"
      ]
     },
     "metadata": {},
     "output_type": "display_data"
    }
   ],
   "source": [
    "plot_predictions(test_set, lstm_prediction)"
   ]
  },
  {
   "cell_type": "code",
   "execution_count": 90,
   "metadata": {},
   "outputs": [
    {
     "data": {
      "text/plain": [
       "1.7345964870984798"
      ]
     },
     "execution_count": 90,
     "metadata": {},
     "output_type": "execute_result"
    }
   ],
   "source": [
    "mean_absolute_error(test_set, lstm_prediction)"
   ]
  },
  {
   "cell_type": "code",
   "execution_count": 92,
   "metadata": {},
   "outputs": [
    {
     "data": {
      "text/plain": [
       "5.762704968770628"
      ]
     },
     "execution_count": 92,
     "metadata": {},
     "output_type": "execute_result"
    }
   ],
   "source": [
    "mean_squared_error(test_set, lstm_prediction)"
   ]
  },
  {
   "cell_type": "code",
   "execution_count": 93,
   "metadata": {},
   "outputs": [
    {
     "name": "stdout",
     "output_type": "stream",
     "text": [
      "The root mean squared error is 2.40056346901527.\n"
     ]
    }
   ],
   "source": [
    "return_rmse(test_set, lstm_prediction)"
   ]
  },
  {
   "cell_type": "markdown",
   "metadata": {},
   "source": [
    "# Multivariate Version"
   ]
  },
  {
   "cell_type": "code",
   "execution_count": 7,
   "metadata": {},
   "outputs": [],
   "source": [
    "def series_to_supervised(data, n_in=1, n_out=1, dropnan=True):\n",
    "    \"\"\"\n",
    "    Frame a time series as a supervised learning dataset.\n",
    "    Arguments:\n",
    "        data: Sequence of observations as a list or NumPy array.\n",
    "        n_in: Number of lag observations as input (X).\n",
    "        n_out: Number of observations as output (y).\n",
    "        dropnan: Boolean whether or not to drop rows with NaN values.\n",
    "    Returns:\n",
    "        Pandas DataFrame of series framed for supervised learning.\n",
    "    \"\"\"\n",
    "    \n",
    "    n_vars = 1 if type(data) is list else data.shape[1]\n",
    "    dff = pd.DataFrame(data)\n",
    "    cols, names = list(), list()\n",
    "    # input sequence (t-n, ... t-1)\n",
    "    for i in range(n_in, 0, -1):\n",
    "        cols.append(dff.shift(i))\n",
    "        names += [('var%d(t-%d)' % (j+1, i)) for j in range(n_vars)]\n",
    "    # forecast sequence (t, t+1, ... t+n)\n",
    "    for i in range(0, n_out):\n",
    "        cols.append(dff.shift(-i))\n",
    "        if i == 0:\n",
    "            names += [('var%d(t)' % (j+1)) for j in range(n_vars)]\n",
    "        else:\n",
    "            names += [('var%d(t+%d)' % (j+1, i)) for j in range(n_vars)]\n",
    "    # put it all together\n",
    "    agg = pd.concat(cols, axis=1)\n",
    "    agg.columns = names\n",
    "    # drop rows with NaN values\n",
    "    if dropnan:\n",
    "        agg.dropna(inplace=True)\n",
    "    return agg"
   ]
  },
  {
   "cell_type": "code",
   "execution_count": 8,
   "metadata": {},
   "outputs": [],
   "source": [
    "sc = MinMaxScaler()"
   ]
  },
  {
   "cell_type": "code",
   "execution_count": 14,
   "metadata": {},
   "outputs": [],
   "source": [
    "inputs = inputs.reshape(-1, 1)"
   ]
  },
  {
   "cell_type": "code",
   "execution_count": 18,
   "metadata": {},
   "outputs": [],
   "source": [
    "training_set_scaled = sc.fit_transform(training_set)"
   ]
  },
  {
   "cell_type": "code",
   "execution_count": 19,
   "metadata": {},
   "outputs": [],
   "source": [
    "test_set_scaled = sc.transform(inputs)"
   ]
  },
  {
   "cell_type": "code",
   "execution_count": 28,
   "metadata": {},
   "outputs": [],
   "source": [
    "train_reframed = series_to_supervised(training_set_scaled, 4)"
   ]
  },
  {
   "cell_type": "code",
   "execution_count": 29,
   "metadata": {},
   "outputs": [],
   "source": [
    "test_reframed = series_to_supervised(test_set_scaled, 4)"
   ]
  },
  {
   "cell_type": "code",
   "execution_count": 33,
   "metadata": {},
   "outputs": [],
   "source": [
    "def load_data(train, test, seq_len, var):\n",
    "    \n",
    "    X_train = []\n",
    "    y_train = []\n",
    "    \n",
    "    X_test = []\n",
    "    y_test = []\n",
    "    \n",
    "    for i in range(seq_len, len(train)):\n",
    "        X_train.append(train.iloc[i-seq_len : i, :-1].values)\n",
    "        y_train.append(train.iloc[i, -1])\n",
    "    \n",
    "    for i in range(seq_len, len(test)):   \n",
    "        X_test.append(test.iloc[i-seq_len : i, :-1].values)\n",
    "        y_test.append(test.iloc[i, -1])\n",
    "    \n",
    "    #3 convert to numpy array\n",
    "    X_train = np.array(X_train)\n",
    "    y_train = np.array(y_train)\n",
    "    \n",
    "    X_test = np.array(X_test)\n",
    "    y_test = np.array(y_test)\n",
    "    \n",
    "    #4 reshape data to input into RNN models\n",
    "    # reshape input to be 3D [samples, timesteps, features]\n",
    "    X_train = np.reshape(X_train, (X_train.shape[0], seq_len, var))\n",
    "    \n",
    "    X_test = np.reshape(X_test, (X_test.shape[0], seq_len, var))\n",
    "    \n",
    "    return [X_train, y_train, X_test, y_test]"
   ]
  },
  {
   "cell_type": "code",
   "execution_count": 35,
   "metadata": {},
   "outputs": [],
   "source": [
    "X_train, y_train, X_test, y_test = load_data(train_reframed, test_reframed, 60, 4)"
   ]
  },
  {
   "cell_type": "code",
   "execution_count": 37,
   "metadata": {},
   "outputs": [],
   "source": [
    "regressor = Sequential()\n",
    "\n",
    "regressor.add(LSTM(50, return_sequences=True, input_shape=(X_train.shape[1], X_train.shape[2])))\n",
    "regressor.add(Dropout(0.2))\n",
    "\n",
    "regressor.add(LSTM(units=50, return_sequences=True))\n",
    "regressor.add(Dropout(0.2))\n",
    "# Third LSTM layer\n",
    "regressor.add(LSTM(units=50, return_sequences=True))\n",
    "regressor.add(Dropout(0.2))\n",
    "# Fourth LSTM layer\n",
    "regressor.add(LSTM(units=50))\n",
    "regressor.add(Dropout(0.2))\n",
    "# The output layer\n",
    "regressor.add(Dense(units=1))"
   ]
  },
  {
   "cell_type": "code",
   "execution_count": 38,
   "metadata": {},
   "outputs": [
    {
     "name": "stdout",
     "output_type": "stream",
     "text": [
      "Train on 2705 samples, validate on 247 samples\n",
      "Epoch 1/50\n",
      "2705/2705 [==============================] - 24s 9ms/step - loss: 0.0207 - val_loss: 0.0030\n",
      "Epoch 2/50\n",
      "2705/2705 [==============================] - 17s 6ms/step - loss: 0.0053 - val_loss: 0.0018\n",
      "Epoch 3/50\n",
      "2705/2705 [==============================] - 21s 8ms/step - loss: 0.0047 - val_loss: 0.0018\n",
      "Epoch 4/50\n",
      "2705/2705 [==============================] - 17s 6ms/step - loss: 0.0046 - val_loss: 0.0015\n",
      "Epoch 5/50\n",
      "2705/2705 [==============================] - 17s 6ms/step - loss: 0.0046 - val_loss: 0.0044\n",
      "Epoch 6/50\n",
      "2705/2705 [==============================] - 18s 6ms/step - loss: 0.0038 - val_loss: 0.0014\n",
      "Epoch 7/50\n",
      "2705/2705 [==============================] - 18s 6ms/step - loss: 0.0041 - val_loss: 0.0013\n",
      "Epoch 8/50\n",
      "2705/2705 [==============================] - 20s 7ms/step - loss: 0.0033 - val_loss: 0.0012\n",
      "Epoch 9/50\n",
      "2705/2705 [==============================] - 17s 6ms/step - loss: 0.0034 - val_loss: 0.0040\n",
      "Epoch 10/50\n",
      "2705/2705 [==============================] - 17s 6ms/step - loss: 0.0036 - val_loss: 0.0014\n",
      "Epoch 11/50\n",
      "2705/2705 [==============================] - 17s 6ms/step - loss: 0.0030 - val_loss: 0.0011\n",
      "Epoch 12/50\n",
      "2705/2705 [==============================] - 17s 6ms/step - loss: 0.0030 - val_loss: 0.0017\n",
      "Epoch 13/50\n",
      "2705/2705 [==============================] - 17s 6ms/step - loss: 0.0030 - val_loss: 0.0024\n",
      "Epoch 14/50\n",
      "2705/2705 [==============================] - 18s 7ms/step - loss: 0.0030 - val_loss: 9.4029e-04\n",
      "Epoch 15/50\n",
      "2705/2705 [==============================] - 17s 6ms/step - loss: 0.0027 - val_loss: 9.9871e-04\n",
      "Epoch 16/50\n",
      "2705/2705 [==============================] - 17s 6ms/step - loss: 0.0027 - val_loss: 0.0010\n",
      "Epoch 17/50\n",
      "2705/2705 [==============================] - 17s 6ms/step - loss: 0.0029 - val_loss: 0.0024\n",
      "Epoch 18/50\n",
      "2705/2705 [==============================] - 17s 6ms/step - loss: 0.0028 - val_loss: 8.2676e-04\n",
      "Epoch 19/50\n",
      "2705/2705 [==============================] - 18s 6ms/step - loss: 0.0026 - val_loss: 8.8795e-04\n",
      "Epoch 20/50\n",
      "2705/2705 [==============================] - 18s 7ms/step - loss: 0.0026 - val_loss: 8.0288e-04\n",
      "Epoch 21/50\n",
      "2705/2705 [==============================] - 20s 7ms/step - loss: 0.0023 - val_loss: 0.0013\n",
      "Epoch 22/50\n",
      "2705/2705 [==============================] - 17s 6ms/step - loss: 0.0024 - val_loss: 8.2474e-04\n",
      "Epoch 23/50\n",
      "2705/2705 [==============================] - 17s 6ms/step - loss: 0.0025 - val_loss: 0.0043\n",
      "Epoch 24/50\n",
      "2705/2705 [==============================] - 17s 6ms/step - loss: 0.0026 - val_loss: 9.8368e-04\n",
      "Epoch 25/50\n",
      "2705/2705 [==============================] - 20s 7ms/step - loss: 0.0022 - val_loss: 6.9194e-04\n",
      "Epoch 26/50\n",
      "2705/2705 [==============================] - 17s 6ms/step - loss: 0.0024 - val_loss: 7.3575e-04\n",
      "Epoch 27/50\n",
      "2705/2705 [==============================] - 17s 6ms/step - loss: 0.0023 - val_loss: 6.7415e-04\n",
      "Epoch 28/50\n",
      "2705/2705 [==============================] - 18s 7ms/step - loss: 0.0020 - val_loss: 9.2676e-04\n",
      "Epoch 29/50\n",
      "2705/2705 [==============================] - 18s 7ms/step - loss: 0.0019 - val_loss: 7.1098e-04\n",
      "Epoch 30/50\n",
      "2705/2705 [==============================] - 18s 7ms/step - loss: 0.0019 - val_loss: 7.9713e-04\n",
      "Epoch 31/50\n",
      "2705/2705 [==============================] - 18s 7ms/step - loss: 0.0020 - val_loss: 7.6125e-04\n",
      "Epoch 32/50\n",
      "2705/2705 [==============================] - 18s 7ms/step - loss: 0.0020 - val_loss: 0.0017\n",
      "Epoch 33/50\n",
      "2705/2705 [==============================] - 18s 7ms/step - loss: 0.0018 - val_loss: 9.3128e-04\n",
      "Epoch 34/50\n",
      "2705/2705 [==============================] - 18s 6ms/step - loss: 0.0018 - val_loss: 7.4493e-04\n",
      "Epoch 35/50\n",
      "2705/2705 [==============================] - 18s 7ms/step - loss: 0.0019 - val_loss: 8.1164e-04\n",
      "Epoch 36/50\n",
      "2705/2705 [==============================] - 18s 7ms/step - loss: 0.0019 - val_loss: 9.7882e-04\n",
      "Epoch 37/50\n",
      "2705/2705 [==============================] - 17s 6ms/step - loss: 0.0017 - val_loss: 0.0010\n",
      "Epoch 38/50\n",
      "2705/2705 [==============================] - 21s 8ms/step - loss: 0.0016 - val_loss: 7.2939e-04\n",
      "Epoch 39/50\n",
      "2705/2705 [==============================] - 17s 6ms/step - loss: 0.0017 - val_loss: 6.6600e-04\n",
      "Epoch 40/50\n",
      "2705/2705 [==============================] - 17s 6ms/step - loss: 0.0016 - val_loss: 6.4026e-04\n",
      "Epoch 41/50\n",
      "2705/2705 [==============================] - 17s 6ms/step - loss: 0.0016 - val_loss: 5.4125e-04\n",
      "Epoch 42/50\n",
      "2705/2705 [==============================] - 20s 7ms/step - loss: 0.0015 - val_loss: 5.1794e-04\n",
      "Epoch 43/50\n",
      "2705/2705 [==============================] - 18s 7ms/step - loss: 0.0016 - val_loss: 6.2726e-04\n",
      "Epoch 44/50\n",
      "2705/2705 [==============================] - 18s 6ms/step - loss: 0.0015 - val_loss: 5.1887e-04\n",
      "Epoch 45/50\n",
      "2705/2705 [==============================] - 17s 6ms/step - loss: 0.0015 - val_loss: 4.9011e-04\n",
      "Epoch 46/50\n",
      "2705/2705 [==============================] - 17s 6ms/step - loss: 0.0016 - val_loss: 7.5897e-04\n",
      "Epoch 47/50\n",
      "2705/2705 [==============================] - 17s 6ms/step - loss: 0.0016 - val_loss: 0.0011\n",
      "Epoch 48/50\n",
      "2705/2705 [==============================] - 18s 7ms/step - loss: 0.0016 - val_loss: 7.0869e-04\n",
      "Epoch 49/50\n",
      "2705/2705 [==============================] - 18s 7ms/step - loss: 0.0014 - val_loss: 4.6272e-04\n",
      "Epoch 50/50\n",
      "2705/2705 [==============================] - 18s 6ms/step - loss: 0.0016 - val_loss: 4.7149e-04\n"
     ]
    },
    {
     "data": {
      "text/plain": [
       "<keras.callbacks.History at 0x7f10ed94c780>"
      ]
     },
     "execution_count": 38,
     "metadata": {},
     "output_type": "execute_result"
    }
   ],
   "source": [
    "# Compiling the RNN\n",
    "regressor.compile(optimizer='adam',loss='mean_squared_error')\n",
    "# Fitting to the training set\n",
    "regressor.fit(X_train,y_train,epochs=50,batch_size=32, validation_data=(X_test, y_test))"
   ]
  },
  {
   "cell_type": "code",
   "execution_count": 39,
   "metadata": {},
   "outputs": [],
   "source": [
    "lstm_predictions_multi = regressor.predict(X_test)"
   ]
  },
  {
   "cell_type": "code",
   "execution_count": 45,
   "metadata": {},
   "outputs": [
    {
     "data": {
      "text/plain": [
       "9.50175451820032"
      ]
     },
     "execution_count": 45,
     "metadata": {},
     "output_type": "execute_result"
    }
   ],
   "source": [
    "mean_squared_error(sc.inverse_transform(y_test.reshape(-1, 1)), sc.inverse_transform(lstm_predictions_multi))"
   ]
  },
  {
   "cell_type": "code",
   "execution_count": 46,
   "metadata": {},
   "outputs": [
    {
     "data": {
      "text/plain": [
       "2.0339347833177817"
      ]
     },
     "execution_count": 46,
     "metadata": {},
     "output_type": "execute_result"
    }
   ],
   "source": [
    "mean_absolute_error(sc.inverse_transform(y_test.reshape(-1, 1)), sc.inverse_transform(lstm_predictions_multi))"
   ]
  },
  {
   "cell_type": "code",
   "execution_count": 52,
   "metadata": {},
   "outputs": [
    {
     "data": {
      "image/png": "[encoded data removed]",
      "text/plain": [
       "<Figure size 432x288 with 1 Axes>"
      ]
     },
     "metadata": {},
     "output_type": "display_data"
    }
   ],
   "source": [
    "plot_predictions(sc.inverse_transform(y_test.reshape(-1, 1)), sc.inverse_transform(lstm_predictions_multi))"
   ]
  },
  {
   "cell_type": "code",
   "execution_count": null,
   "metadata": {},
   "outputs": [],
   "source": []
  }
 ],
 "metadata": {
  "kernelspec": {
   "display_name": "Python 3",
   "language": "python",
   "name": "python3"
  },
  "language_info": {
   "codemirror_mode": {
    "name": "ipython",
    "version": 3
   },
   "file_extension": ".py",
   "mimetype": "text/x-python",
   "name": "python",
   "nbconvert_exporter": "python",
   "pygments_lexer": "ipython3",
   "version": "3.6.5"
  }
 },
 "nbformat": 4,
 "nbformat_minor": 2
}
