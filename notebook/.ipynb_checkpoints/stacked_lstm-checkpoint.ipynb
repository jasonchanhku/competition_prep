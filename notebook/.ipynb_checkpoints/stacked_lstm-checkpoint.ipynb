{
 "cells": [
  {
   "cell_type": "markdown",
   "metadata": {},
   "source": [
    "# Stacked LSTM"
   ]
  },
  {
   "cell_type": "code",
   "execution_count": 19,
   "metadata": {},
   "outputs": [],
   "source": [
    "# Importing packages\n",
    "from pathlib import Path\n",
    "import pandas as pd\n",
    "import numpy as np\n",
    "%matplotlib inline\n",
    "import matplotlib.pyplot as plt\n",
    "import warnings\n",
    "warnings.simplefilter(action = 'ignore', category = FutureWarning)\n",
    "from sklearn.preprocessing import MinMaxScaler\n",
    "\n",
    "from keras.preprocessing.sequence import TimeseriesGenerator\n",
    "from keras.models import Sequential\n",
    "from keras.layers import Dense, LSTM, SimpleRNN\n",
    "from keras.optimizers import RMSprop\n",
    "from keras.callbacks import ModelCheckpoint, EarlyStopping\n",
    "from keras.models import model_from_json\n",
    "\n",
    "import os"
   ]
  },
  {
   "cell_type": "code",
   "execution_count": 2,
   "metadata": {},
   "outputs": [],
   "source": [
    "project_dir = Path(r'/home/jasonchandatascience/competition_prep/data/pollution')"
   ]
  },
  {
   "cell_type": "code",
   "execution_count": 3,
   "metadata": {},
   "outputs": [
    {
     "name": "stdout",
     "output_type": "stream",
     "text": [
      "aggregated timeseries shape:(53647, 18)\n",
      "metadata shape:(1289, 26)\n"
     ]
    }
   ],
   "source": [
    "date_vars = ['DatetimeBegin','DatetimeEnd']\n",
    "\n",
    "agg_ts = pd.read_csv(project_dir / 'BE_1_2013-2015_aggregated_timeseries.csv', sep='\\t', parse_dates=date_vars, date_parser=pd.to_datetime)\n",
    "meta = pd.read_csv(project_dir / 'BE_2013-2015_metadata.csv', sep='\\t')\n",
    "\n",
    "print('aggregated timeseries shape:{}'.format(agg_ts.shape))\n",
    "print('metadata shape:{}'.format(meta.shape))"
   ]
  },
  {
   "cell_type": "code",
   "execution_count": 6,
   "metadata": {},
   "outputs": [
    {
     "data": {
      "text/html": [
       "<div>\n",
       "<style scoped>\n",
       "    .dataframe tbody tr th:only-of-type {\n",
       "        vertical-align: middle;\n",
       "    }\n",
       "\n",
       "    .dataframe tbody tr th {\n",
       "        vertical-align: top;\n",
       "    }\n",
       "\n",
       "    .dataframe thead th {\n",
       "        text-align: right;\n",
       "    }\n",
       "</style>\n",
       "<table border=\"1\" class=\"dataframe\">\n",
       "  <thead>\n",
       "    <tr style=\"text-align: right;\">\n",
       "      <th></th>\n",
       "      <th>Countrycode</th>\n",
       "      <th>Namespace</th>\n",
       "      <th>AirQualityNetwork</th>\n",
       "      <th>AirQualityStation</th>\n",
       "      <th>AirQualityStationEoICode</th>\n",
       "      <th>SamplingPoint</th>\n",
       "      <th>AirPollutant</th>\n",
       "      <th>AirPollutantCode</th>\n",
       "      <th>DataAggregationProcess</th>\n",
       "      <th>AirPollutionLevel</th>\n",
       "      <th>UnitOfAirPollutionLevel</th>\n",
       "      <th>DataCapture</th>\n",
       "      <th>DataCoverage</th>\n",
       "      <th>TimeCoverage</th>\n",
       "      <th>DatetimeBegin</th>\n",
       "      <th>DatetimeEnd</th>\n",
       "      <th>Validity</th>\n",
       "      <th>Verification</th>\n",
       "    </tr>\n",
       "  </thead>\n",
       "  <tbody>\n",
       "    <tr>\n",
       "      <th>0</th>\n",
       "      <td>BE</td>\n",
       "      <td>BE.CELINE-IRCEL.AQ</td>\n",
       "      <td>NET-Flanders</td>\n",
       "      <td>STA-BELBE06</td>\n",
       "      <td>BELBE06</td>\n",
       "      <td>SPO-BELBE06_00001_100</td>\n",
       "      <td>SO2</td>\n",
       "      <td>http://dd.eionet.europa.eu/vocabulary/aq/pollu...</td>\n",
       "      <td>P1D</td>\n",
       "      <td>1.0</td>\n",
       "      <td>µg/m3</td>\n",
       "      <td>100.0</td>\n",
       "      <td>83.333333</td>\n",
       "      <td>83.333333</td>\n",
       "      <td>2013-03-01</td>\n",
       "      <td>2013-03-02</td>\n",
       "      <td>1</td>\n",
       "      <td>1</td>\n",
       "    </tr>\n",
       "    <tr>\n",
       "      <th>1</th>\n",
       "      <td>BE</td>\n",
       "      <td>BE.CELINE-IRCEL.AQ</td>\n",
       "      <td>NET-Flanders</td>\n",
       "      <td>STA-BELBE06</td>\n",
       "      <td>BELBE06</td>\n",
       "      <td>SPO-BELBE06_00001_100</td>\n",
       "      <td>SO2</td>\n",
       "      <td>http://dd.eionet.europa.eu/vocabulary/aq/pollu...</td>\n",
       "      <td>P1D</td>\n",
       "      <td>1.0</td>\n",
       "      <td>µg/m3</td>\n",
       "      <td>100.0</td>\n",
       "      <td>87.500000</td>\n",
       "      <td>87.500000</td>\n",
       "      <td>2013-02-26</td>\n",
       "      <td>2013-02-27</td>\n",
       "      <td>1</td>\n",
       "      <td>1</td>\n",
       "    </tr>\n",
       "    <tr>\n",
       "      <th>2</th>\n",
       "      <td>BE</td>\n",
       "      <td>BE.CELINE-IRCEL.AQ</td>\n",
       "      <td>NET-Flanders</td>\n",
       "      <td>STA-BELBE06</td>\n",
       "      <td>BELBE06</td>\n",
       "      <td>SPO-BELBE06_00001_100</td>\n",
       "      <td>SO2</td>\n",
       "      <td>http://dd.eionet.europa.eu/vocabulary/aq/pollu...</td>\n",
       "      <td>P1D</td>\n",
       "      <td>1.0</td>\n",
       "      <td>µg/m3</td>\n",
       "      <td>100.0</td>\n",
       "      <td>87.500000</td>\n",
       "      <td>87.500000</td>\n",
       "      <td>2013-08-28</td>\n",
       "      <td>2013-08-29</td>\n",
       "      <td>1</td>\n",
       "      <td>1</td>\n",
       "    </tr>\n",
       "    <tr>\n",
       "      <th>3</th>\n",
       "      <td>BE</td>\n",
       "      <td>BE.CELINE-IRCEL.AQ</td>\n",
       "      <td>NET-Flanders</td>\n",
       "      <td>STA-BELBE06</td>\n",
       "      <td>BELBE06</td>\n",
       "      <td>SPO-BELBE06_00001_100</td>\n",
       "      <td>SO2</td>\n",
       "      <td>http://dd.eionet.europa.eu/vocabulary/aq/pollu...</td>\n",
       "      <td>P1D</td>\n",
       "      <td>1.0</td>\n",
       "      <td>µg/m3</td>\n",
       "      <td>100.0</td>\n",
       "      <td>95.833333</td>\n",
       "      <td>95.833333</td>\n",
       "      <td>2013-02-02</td>\n",
       "      <td>2013-02-03</td>\n",
       "      <td>1</td>\n",
       "      <td>1</td>\n",
       "    </tr>\n",
       "    <tr>\n",
       "      <th>4</th>\n",
       "      <td>BE</td>\n",
       "      <td>BE.CELINE-IRCEL.AQ</td>\n",
       "      <td>NET-Flanders</td>\n",
       "      <td>STA-BELBE06</td>\n",
       "      <td>BELBE06</td>\n",
       "      <td>SPO-BELBE06_00001_100</td>\n",
       "      <td>SO2</td>\n",
       "      <td>http://dd.eionet.europa.eu/vocabulary/aq/pollu...</td>\n",
       "      <td>P1D</td>\n",
       "      <td>1.0</td>\n",
       "      <td>µg/m3</td>\n",
       "      <td>100.0</td>\n",
       "      <td>95.833333</td>\n",
       "      <td>95.833333</td>\n",
       "      <td>2013-02-21</td>\n",
       "      <td>2013-02-22</td>\n",
       "      <td>1</td>\n",
       "      <td>1</td>\n",
       "    </tr>\n",
       "  </tbody>\n",
       "</table>\n",
       "</div>"
      ],
      "text/plain": [
       "  Countrycode           Namespace AirQualityNetwork AirQualityStation  \\\n",
       "0          BE  BE.CELINE-IRCEL.AQ      NET-Flanders       STA-BELBE06   \n",
       "1          BE  BE.CELINE-IRCEL.AQ      NET-Flanders       STA-BELBE06   \n",
       "2          BE  BE.CELINE-IRCEL.AQ      NET-Flanders       STA-BELBE06   \n",
       "3          BE  BE.CELINE-IRCEL.AQ      NET-Flanders       STA-BELBE06   \n",
       "4          BE  BE.CELINE-IRCEL.AQ      NET-Flanders       STA-BELBE06   \n",
       "\n",
       "  AirQualityStationEoICode          SamplingPoint AirPollutant  \\\n",
       "0                  BELBE06  SPO-BELBE06_00001_100          SO2   \n",
       "1                  BELBE06  SPO-BELBE06_00001_100          SO2   \n",
       "2                  BELBE06  SPO-BELBE06_00001_100          SO2   \n",
       "3                  BELBE06  SPO-BELBE06_00001_100          SO2   \n",
       "4                  BELBE06  SPO-BELBE06_00001_100          SO2   \n",
       "\n",
       "                                    AirPollutantCode DataAggregationProcess  \\\n",
       "0  http://dd.eionet.europa.eu/vocabulary/aq/pollu...                    P1D   \n",
       "1  http://dd.eionet.europa.eu/vocabulary/aq/pollu...                    P1D   \n",
       "2  http://dd.eionet.europa.eu/vocabulary/aq/pollu...                    P1D   \n",
       "3  http://dd.eionet.europa.eu/vocabulary/aq/pollu...                    P1D   \n",
       "4  http://dd.eionet.europa.eu/vocabulary/aq/pollu...                    P1D   \n",
       "\n",
       "   AirPollutionLevel UnitOfAirPollutionLevel  DataCapture  DataCoverage  \\\n",
       "0                1.0                   µg/m3        100.0     83.333333   \n",
       "1                1.0                   µg/m3        100.0     87.500000   \n",
       "2                1.0                   µg/m3        100.0     87.500000   \n",
       "3                1.0                   µg/m3        100.0     95.833333   \n",
       "4                1.0                   µg/m3        100.0     95.833333   \n",
       "\n",
       "   TimeCoverage DatetimeBegin DatetimeEnd  Validity  Verification  \n",
       "0     83.333333    2013-03-01  2013-03-02         1             1  \n",
       "1     87.500000    2013-02-26  2013-02-27         1             1  \n",
       "2     87.500000    2013-08-28  2013-08-29         1             1  \n",
       "3     95.833333    2013-02-02  2013-02-03         1             1  \n",
       "4     95.833333    2013-02-21  2013-02-22         1             1  "
      ]
     },
     "execution_count": 6,
     "metadata": {},
     "output_type": "execute_result"
    }
   ],
   "source": [
    "agg_ts.head()"
   ]
  },
  {
   "cell_type": "code",
   "execution_count": 7,
   "metadata": {},
   "outputs": [
    {
     "data": {
      "text/html": [
       "<div>\n",
       "<style scoped>\n",
       "    .dataframe tbody tr th:only-of-type {\n",
       "        vertical-align: middle;\n",
       "    }\n",
       "\n",
       "    .dataframe tbody tr th {\n",
       "        vertical-align: top;\n",
       "    }\n",
       "\n",
       "    .dataframe thead th {\n",
       "        text-align: right;\n",
       "    }\n",
       "</style>\n",
       "<table border=\"1\" class=\"dataframe\">\n",
       "  <thead>\n",
       "    <tr style=\"text-align: right;\">\n",
       "      <th></th>\n",
       "      <th>Countrycode</th>\n",
       "      <th>Timezone</th>\n",
       "      <th>Namespace</th>\n",
       "      <th>AirQualityNetwork</th>\n",
       "      <th>AirQualityStation</th>\n",
       "      <th>AirQualityStationEoICode</th>\n",
       "      <th>AirQualityStationNatCode</th>\n",
       "      <th>SamplingPoint</th>\n",
       "      <th>SamplingProcess</th>\n",
       "      <th>Sample</th>\n",
       "      <th>...</th>\n",
       "      <th>Latitude</th>\n",
       "      <th>Altitude</th>\n",
       "      <th>MeasurementType</th>\n",
       "      <th>AirQualityStationType</th>\n",
       "      <th>AirQualityStationArea</th>\n",
       "      <th>EquivalenceDemonstrated</th>\n",
       "      <th>MeasurementEquipment</th>\n",
       "      <th>InletHeight</th>\n",
       "      <th>BuildingDistance</th>\n",
       "      <th>KerbDistance</th>\n",
       "    </tr>\n",
       "  </thead>\n",
       "  <tbody>\n",
       "    <tr>\n",
       "      <th>0</th>\n",
       "      <td>BE</td>\n",
       "      <td>http://dd.eionet.europa.eu/vocabulary/aq/timez...</td>\n",
       "      <td>BE.CELINE-IRCEL.AQ</td>\n",
       "      <td>NET-Flanders</td>\n",
       "      <td>STA-BEGBB15</td>\n",
       "      <td>BEGBB15</td>\n",
       "      <td>26BB15</td>\n",
       "      <td>SPO-BEGBB15_06001_100</td>\n",
       "      <td>SPP-BEGBB15_06001_1</td>\n",
       "      <td>SAM-BEGBB15_06001</td>\n",
       "      <td>...</td>\n",
       "      <td>51.213463</td>\n",
       "      <td>5</td>\n",
       "      <td>automatic</td>\n",
       "      <td>background</td>\n",
       "      <td>urban</td>\n",
       "      <td>ref</td>\n",
       "      <td>NaN</td>\n",
       "      <td>2</td>\n",
       "      <td>-999</td>\n",
       "      <td>-999</td>\n",
       "    </tr>\n",
       "    <tr>\n",
       "      <th>1</th>\n",
       "      <td>BE</td>\n",
       "      <td>http://dd.eionet.europa.eu/vocabulary/aq/timez...</td>\n",
       "      <td>BE.CELINE-IRCEL.AQ</td>\n",
       "      <td>NET-Flanders</td>\n",
       "      <td>STA-BEGR701</td>\n",
       "      <td>BEGR701</td>\n",
       "      <td>26R701</td>\n",
       "      <td>SPO-BEGR701_06001_100</td>\n",
       "      <td>SPP-BEGR701_06001_1</td>\n",
       "      <td>SAM-BEGR701_06001</td>\n",
       "      <td>...</td>\n",
       "      <td>51.058332</td>\n",
       "      <td>5</td>\n",
       "      <td>automatic</td>\n",
       "      <td>background</td>\n",
       "      <td>urban</td>\n",
       "      <td>ref</td>\n",
       "      <td>NaN</td>\n",
       "      <td>2</td>\n",
       "      <td>-999</td>\n",
       "      <td>-999</td>\n",
       "    </tr>\n",
       "    <tr>\n",
       "      <th>2</th>\n",
       "      <td>BE</td>\n",
       "      <td>http://dd.eionet.europa.eu/vocabulary/aq/timez...</td>\n",
       "      <td>BE.CELINE-IRCEL.AQ</td>\n",
       "      <td>NET-Flanders</td>\n",
       "      <td>STA-BEGR801</td>\n",
       "      <td>BEGR801</td>\n",
       "      <td>26R801</td>\n",
       "      <td>SPO-BEGR801_06001_100</td>\n",
       "      <td>SPP-BEGR801_06001_1</td>\n",
       "      <td>SAM-BEGR801_06001</td>\n",
       "      <td>...</td>\n",
       "      <td>51.209663</td>\n",
       "      <td>6</td>\n",
       "      <td>automatic</td>\n",
       "      <td>background</td>\n",
       "      <td>urban</td>\n",
       "      <td>ref</td>\n",
       "      <td>NaN</td>\n",
       "      <td>2</td>\n",
       "      <td>-999</td>\n",
       "      <td>-999</td>\n",
       "    </tr>\n",
       "    <tr>\n",
       "      <th>3</th>\n",
       "      <td>BE</td>\n",
       "      <td>http://dd.eionet.europa.eu/vocabulary/aq/timez...</td>\n",
       "      <td>BE.CELINE-IRCEL.AQ</td>\n",
       "      <td>NET-Flanders</td>\n",
       "      <td>STA-BEGR811</td>\n",
       "      <td>BEGR811</td>\n",
       "      <td>26R811</td>\n",
       "      <td>SPO-BEGR811_06001_100</td>\n",
       "      <td>SPP-BEGR811_06001_1</td>\n",
       "      <td>SAM-BEGR811_06001</td>\n",
       "      <td>...</td>\n",
       "      <td>51.252103</td>\n",
       "      <td>8</td>\n",
       "      <td>automatic</td>\n",
       "      <td>background</td>\n",
       "      <td>suburban</td>\n",
       "      <td>ref</td>\n",
       "      <td>NaN</td>\n",
       "      <td>2</td>\n",
       "      <td>-999</td>\n",
       "      <td>-999</td>\n",
       "    </tr>\n",
       "    <tr>\n",
       "      <th>4</th>\n",
       "      <td>BE</td>\n",
       "      <td>http://dd.eionet.europa.eu/vocabulary/aq/timez...</td>\n",
       "      <td>BE.CELINE-IRCEL.AQ</td>\n",
       "      <td>NET-Flanders</td>\n",
       "      <td>STA-BEGRT01</td>\n",
       "      <td>BEGRT01</td>\n",
       "      <td>26RT01</td>\n",
       "      <td>SPO-BEGRT01_06001_100</td>\n",
       "      <td>SPP-BEGRT01_06001_1</td>\n",
       "      <td>SAM-BEGRT01_06001</td>\n",
       "      <td>...</td>\n",
       "      <td>51.230858</td>\n",
       "      <td>23</td>\n",
       "      <td>automatic</td>\n",
       "      <td>background</td>\n",
       "      <td>rural</td>\n",
       "      <td>ref</td>\n",
       "      <td>NaN</td>\n",
       "      <td>2</td>\n",
       "      <td>-999</td>\n",
       "      <td>-999</td>\n",
       "    </tr>\n",
       "  </tbody>\n",
       "</table>\n",
       "<p>5 rows × 26 columns</p>\n",
       "</div>"
      ],
      "text/plain": [
       "  Countrycode                                           Timezone  \\\n",
       "0          BE  http://dd.eionet.europa.eu/vocabulary/aq/timez...   \n",
       "1          BE  http://dd.eionet.europa.eu/vocabulary/aq/timez...   \n",
       "2          BE  http://dd.eionet.europa.eu/vocabulary/aq/timez...   \n",
       "3          BE  http://dd.eionet.europa.eu/vocabulary/aq/timez...   \n",
       "4          BE  http://dd.eionet.europa.eu/vocabulary/aq/timez...   \n",
       "\n",
       "            Namespace AirQualityNetwork AirQualityStation  \\\n",
       "0  BE.CELINE-IRCEL.AQ      NET-Flanders       STA-BEGBB15   \n",
       "1  BE.CELINE-IRCEL.AQ      NET-Flanders       STA-BEGR701   \n",
       "2  BE.CELINE-IRCEL.AQ      NET-Flanders       STA-BEGR801   \n",
       "3  BE.CELINE-IRCEL.AQ      NET-Flanders       STA-BEGR811   \n",
       "4  BE.CELINE-IRCEL.AQ      NET-Flanders       STA-BEGRT01   \n",
       "\n",
       "  AirQualityStationEoICode AirQualityStationNatCode          SamplingPoint  \\\n",
       "0                  BEGBB15                   26BB15  SPO-BEGBB15_06001_100   \n",
       "1                  BEGR701                   26R701  SPO-BEGR701_06001_100   \n",
       "2                  BEGR801                   26R801  SPO-BEGR801_06001_100   \n",
       "3                  BEGR811                   26R811  SPO-BEGR811_06001_100   \n",
       "4                  BEGRT01                   26RT01  SPO-BEGRT01_06001_100   \n",
       "\n",
       "       SamplingProcess             Sample     ...        Latitude Altitude  \\\n",
       "0  SPP-BEGBB15_06001_1  SAM-BEGBB15_06001     ...       51.213463        5   \n",
       "1  SPP-BEGR701_06001_1  SAM-BEGR701_06001     ...       51.058332        5   \n",
       "2  SPP-BEGR801_06001_1  SAM-BEGR801_06001     ...       51.209663        6   \n",
       "3  SPP-BEGR811_06001_1  SAM-BEGR811_06001     ...       51.252103        8   \n",
       "4  SPP-BEGRT01_06001_1  SAM-BEGRT01_06001     ...       51.230858       23   \n",
       "\n",
       "  MeasurementType AirQualityStationType AirQualityStationArea  \\\n",
       "0       automatic            background                 urban   \n",
       "1       automatic            background                 urban   \n",
       "2       automatic            background                 urban   \n",
       "3       automatic            background              suburban   \n",
       "4       automatic            background                 rural   \n",
       "\n",
       "   EquivalenceDemonstrated  MeasurementEquipment  InletHeight  \\\n",
       "0                      ref                   NaN            2   \n",
       "1                      ref                   NaN            2   \n",
       "2                      ref                   NaN            2   \n",
       "3                      ref                   NaN            2   \n",
       "4                      ref                   NaN            2   \n",
       "\n",
       "  BuildingDistance KerbDistance  \n",
       "0             -999         -999  \n",
       "1             -999         -999  \n",
       "2             -999         -999  \n",
       "3             -999         -999  \n",
       "4             -999         -999  \n",
       "\n",
       "[5 rows x 26 columns]"
      ]
     },
     "execution_count": 7,
     "metadata": {},
     "output_type": "execute_result"
    }
   ],
   "source": [
    "meta.head()"
   ]
  },
  {
   "cell_type": "markdown",
   "metadata": {},
   "source": [
    "# Data Cleaning"
   ]
  },
  {
   "cell_type": "code",
   "execution_count": 4,
   "metadata": {},
   "outputs": [],
   "source": [
    "ser_avail_days = agg_ts.groupby('SamplingPoint').nunique()['DatetimeBegin']\n",
    "df = agg_ts.loc[agg_ts.DataAggregationProcess=='P1D', :] \n",
    "df = df.loc[df.UnitOfAirPollutionLevel!='count', :]\n",
    "df = df.loc[df.SamplingPoint.isin(ser_avail_days[ser_avail_days.values >= 1000].index), :]\n",
    "vars_to_drop = ['AirPollutant','AirPollutantCode','Countrycode','Namespace','TimeCoverage','Validity','Verification','AirQualityStation',\n",
    "               'AirQualityStationEoICode','DataAggregationProcess','UnitOfAirPollutionLevel', 'DatetimeEnd', 'AirQualityNetwork',\n",
    "               'DataCapture', 'DataCoverage']\n",
    "df.drop(columns=vars_to_drop, axis='columns', inplace=True)"
   ]
  },
  {
   "cell_type": "code",
   "execution_count": 5,
   "metadata": {},
   "outputs": [
    {
     "name": "stdout",
     "output_type": "stream",
     "text": [
      "0 missing values\n"
     ]
    }
   ],
   "source": [
    "dates = list(pd.period_range(min(df.DatetimeBegin), max(df.DatetimeBegin), freq='D').values)\n",
    "samplingpoints = list(df.SamplingPoint.unique())\n",
    "\n",
    "new_idx = []\n",
    "for sp in samplingpoints:\n",
    "    for d in dates:\n",
    "        new_idx.append((sp, np.datetime64(d)))\n",
    "\n",
    "df.set_index(keys=['SamplingPoint', 'DatetimeBegin'], inplace=True)\n",
    "df.sort_index(inplace=True)\n",
    "df = df.reindex(new_idx)\n",
    "#print(df.loc['SPO-BETR223_00001_100','2013-01-29'])  # should contain NaN for the columns\n",
    "\n",
    "df['AirPollutionLevel'] = df.groupby(level=0).AirPollutionLevel.bfill().fillna(0)\n",
    "#print(df.loc['SPO-BETR223_00001_100','2013-01-29'])  # NaN are replaced by values of 2013-01-30\n",
    "print('{} missing values'.format(df.isnull().sum().sum()))"
   ]
  },
  {
   "cell_type": "code",
   "execution_count": 6,
   "metadata": {},
   "outputs": [],
   "source": [
    "df = df.loc['SPO-BETR223_00001_100',:]"
   ]
  },
  {
   "cell_type": "code",
   "execution_count": 7,
   "metadata": {},
   "outputs": [],
   "source": [
    "import seaborn as sns ; sns.set()"
   ]
  },
  {
   "cell_type": "code",
   "execution_count": 16,
   "metadata": {},
   "outputs": [
    {
     "data": {
      "text/plain": [
       "<matplotlib.axes._subplots.AxesSubplot at 0x7f8fd5dc0128>"
      ]
     },
     "execution_count": 16,
     "metadata": {},
     "output_type": "execute_result"
    },
    {
     "data": {
      "image/png": "[encoded data removed]",
      "text/plain": [
       "<Figure size 1080x504 with 1 Axes>"
      ]
     },
     "metadata": {},
     "output_type": "display_data"
    }
   ],
   "source": [
    "df.plot(figsize=(15, 7))"
   ]
  },
  {
   "cell_type": "markdown",
   "metadata": {},
   "source": [
    "# Train, Test, Valid Split"
   ]
  },
  {
   "cell_type": "code",
   "execution_count": 8,
   "metadata": {},
   "outputs": [],
   "source": [
    "train = df.query('DatetimeBegin < \"2014-07-01\"')\n",
    "valid = df.query('DatetimeBegin >= \"2014-07-01\" and DatetimeBegin < \"2015-01-01\"')\n",
    "test = df.query('DatetimeBegin >= \"2015-01-01\"')"
   ]
  },
  {
   "cell_type": "code",
   "execution_count": 9,
   "metadata": {},
   "outputs": [],
   "source": [
    "# Save column names and indices to use when storing as csv\n",
    "cols = train.columns\n",
    "train_idx = train.index\n",
    "valid_idx = valid.index\n",
    "test_idx = test.index\n",
    "\n",
    "# normalize the dataset\n",
    "scaler = MinMaxScaler(feature_range=(0, 1))\n",
    "train = scaler.fit_transform(train)\n",
    "valid = scaler.transform(valid)\n",
    "test = scaler.transform(test)"
   ]
  },
  {
   "cell_type": "code",
   "execution_count": 10,
   "metadata": {},
   "outputs": [],
   "source": [
    "train = pd.DataFrame(train, columns=cols, index=train_idx)\n",
    "valid = pd.DataFrame(valid, columns=cols, index=valid_idx)\n",
    "test = pd.DataFrame(test, columns=cols, index=test_idx)"
   ]
  },
  {
   "cell_type": "code",
   "execution_count": 21,
   "metadata": {},
   "outputs": [
    {
     "data": {
      "text/plain": [
       "(546, 1)"
      ]
     },
     "execution_count": 21,
     "metadata": {},
     "output_type": "execute_result"
    }
   ],
   "source": [
    "train.shape"
   ]
  },
  {
   "cell_type": "code",
   "execution_count": 22,
   "metadata": {},
   "outputs": [
    {
     "data": {
      "text/plain": [
       "(184, 1)"
      ]
     },
     "execution_count": 22,
     "metadata": {},
     "output_type": "execute_result"
    }
   ],
   "source": [
    "valid.shape"
   ]
  },
  {
   "cell_type": "code",
   "execution_count": 23,
   "metadata": {},
   "outputs": [
    {
     "data": {
      "text/plain": [
       "(365, 1)"
      ]
     },
     "execution_count": 23,
     "metadata": {},
     "output_type": "execute_result"
    }
   ],
   "source": [
    "test.shape"
   ]
  },
  {
   "cell_type": "markdown",
   "metadata": {},
   "source": [
    "# Modelling"
   ]
  },
  {
   "cell_type": "code",
   "execution_count": 14,
   "metadata": {},
   "outputs": [],
   "source": [
    "def plot_loss(history, title):\n",
    "    plt.figure(figsize=(10,6))\n",
    "    plt.plot(history.history['loss'], label='Train')\n",
    "    plt.plot(history.history['val_loss'], label='Validation')\n",
    "    plt.title(title)\n",
    "    plt.xlabel('Nb Epochs')\n",
    "    plt.ylabel('Loss')\n",
    "    plt.legend()\n",
    "    plt.show()\n",
    "    \n",
    "    val_loss = history.history['val_loss']\n",
    "    min_idx = np.argmin(val_loss)\n",
    "    min_val_loss = val_loss[min_idx]\n",
    "    print('Minimum validation loss of {} reached at epoch {}'.format(min_val_loss, min_idx))"
   ]
  },
  {
   "cell_type": "markdown",
   "metadata": {},
   "source": [
    "## Time Series Generator\n",
    "\n",
    "Using EarlyStopping to stop if no improvement in 10 epochs and ModelCheckPoint to save weights of the best model"
   ]
  },
  {
   "cell_type": "code",
   "execution_count": 12,
   "metadata": {},
   "outputs": [],
   "source": [
    "train = train.values.reshape(len(train), 1)\n",
    "valid = valid.values.reshape(len(valid), 1)\n",
    "test = test.values.reshape(len(test), 1)"
   ]
  },
  {
   "cell_type": "code",
   "execution_count": 13,
   "metadata": {},
   "outputs": [],
   "source": [
    "n_lag = 14\n",
    "\n",
    "train_data_gen = TimeseriesGenerator(train, train, length=n_lag, sampling_rate=1, stride=1, batch_size = 5)\n",
    "valid_data_gen = TimeseriesGenerator(train, train, length=n_lag, sampling_rate=1, stride=1, batch_size = 1)\n",
    "test_data_gen = TimeseriesGenerator(test, test, length=n_lag, sampling_rate=1, stride=1, batch_size = 1)"
   ]
  },
  {
   "cell_type": "code",
   "execution_count": 61,
   "metadata": {},
   "outputs": [],
   "source": [
    "simple_rnn = Sequential()\n",
    "simple_rnn.add(SimpleRNN(4, input_shape=(14, 1)))\n",
    "simple_rnn.add(Dense(1))"
   ]
  },
  {
   "cell_type": "code",
   "execution_count": 62,
   "metadata": {},
   "outputs": [],
   "source": [
    "simple_rnn.compile(loss='mae', optimizer = 'rmsprop')"
   ]
  },
  {
   "cell_type": "code",
   "execution_count": 63,
   "metadata": {},
   "outputs": [],
   "source": [
    "model_dir = Path(r'/home/jasonchandatascience/competition_prep/model/pollution')"
   ]
  },
  {
   "cell_type": "code",
   "execution_count": 64,
   "metadata": {},
   "outputs": [],
   "source": [
    "checkpointer = ModelCheckpoint(filepath= str(model_dir / 'simple_rnn_weights.hdf5'), verbose=0, save_best_only=True)"
   ]
  },
  {
   "cell_type": "code",
   "execution_count": 65,
   "metadata": {},
   "outputs": [],
   "source": [
    "earlystopper = EarlyStopping(monitor='val_loss', patience=10, verbose=0)"
   ]
  },
  {
   "cell_type": "code",
   "execution_count": 66,
   "metadata": {},
   "outputs": [],
   "source": [
    "# save model architecture to json\n",
    "\n",
    "with open(model_dir / \"simple_rnn.json\", \"w\") as m: \n",
    "    m.write(simple_rnn.to_json())"
   ]
  },
  {
   "cell_type": "code",
   "execution_count": 67,
   "metadata": {},
   "outputs": [],
   "source": [
    "simple_rnn_history = simple_rnn.fit_generator(train_data_gen, epochs=100, validation_data=valid_data_gen, verbose=0, callbacks=[checkpointer, earlystopper])"
   ]
  },
  {
   "cell_type": "code",
   "execution_count": 68,
   "metadata": {},
   "outputs": [
    {
     "data": {
      "image/png": "[encoded data removed]",
      "text/plain": [
       "<Figure size 720x432 with 1 Axes>"
      ]
     },
     "metadata": {},
     "output_type": "display_data"
    },
    {
     "name": "stdout",
     "output_type": "stream",
     "text": [
      "Minimum validation loss of 0.03982634324128775 reached at epoch 23\n"
     ]
    }
   ],
   "source": [
    "plot_loss(simple_rnn_history, 'SimpleRNN - Train & Validation Loss')"
   ]
  },
  {
   "cell_type": "markdown",
   "metadata": {},
   "source": [
    "# Stacked LSTM"
   ]
  },
  {
   "cell_type": "code",
   "execution_count": 15,
   "metadata": {},
   "outputs": [],
   "source": [
    "stacked_lstm = Sequential()\n",
    "stacked_lstm.add(LSTM(16, input_shape=(n_lag, 1), return_sequences=True))\n",
    "stacked_lstm.add(LSTM(8, return_sequences=True))\n",
    "stacked_lstm.add(LSTM(4))\n",
    "stacked_lstm.add(Dense(1))\n"
   ]
  },
  {
   "cell_type": "code",
   "execution_count": 16,
   "metadata": {},
   "outputs": [],
   "source": [
    "stacked_lstm.compile(loss=\"mae\", optimizer=\"rmsprop\")"
   ]
  },
  {
   "cell_type": "code",
   "execution_count": 17,
   "metadata": {},
   "outputs": [],
   "source": [
    "model_dir = r'/home/jasonchandatascience/competition_prep/model/pollution'"
   ]
  },
  {
   "cell_type": "code",
   "execution_count": 20,
   "metadata": {},
   "outputs": [],
   "source": [
    "checkpointer = ModelCheckpoint(filepath=os.path.join(model_dir, \"stacked_lstm.hdf5\"), save_best_only=True, verbose=0)"
   ]
  },
  {
   "cell_type": "code",
   "execution_count": 21,
   "metadata": {},
   "outputs": [],
   "source": [
    "earlystopper = EarlyStopping(monitor='val_loss', patience=10, verbose=0)"
   ]
  },
  {
   "cell_type": "code",
   "execution_count": 23,
   "metadata": {},
   "outputs": [],
   "source": [
    "with open(os.path.join(model_dir, \"stacked_lstm.json\"), \"w\") as m:\n",
    "    m.write(stacked_lstm.to_json())"
   ]
  },
  {
   "cell_type": "code",
   "execution_count": 24,
   "metadata": {},
   "outputs": [],
   "source": [
    "stacked_lstm_history = stacked_lstm.fit_generator(train_data_gen, epochs=100, validation_data=valid_data_gen,\n",
    "                                                 verbose=0,\n",
    "                                                  callbacks = [checkpointer, earlystopper],\n",
    "                                                 \n",
    "                                                 )"
   ]
  },
  {
   "cell_type": "code",
   "execution_count": 25,
   "metadata": {},
   "outputs": [
    {
     "data": {
      "image/png": "[encoded data removed]",
      "text/plain": [
       "<Figure size 720x432 with 1 Axes>"
      ]
     },
     "metadata": {},
     "output_type": "display_data"
    },
    {
     "name": "stdout",
     "output_type": "stream",
     "text": [
      "Minimum validation loss of 0.038862682570207904 reached at epoch 63\n"
     ]
    }
   ],
   "source": [
    "plot_loss(stacked_lstm_history, 'Stacked LSTM - Train & Validation Loss')"
   ]
  },
  {
   "cell_type": "code",
   "execution_count": 27,
   "metadata": {},
   "outputs": [],
   "source": [
    "from sklearn.metrics import mean_squared_error, mean_absolute_error"
   ]
  },
  {
   "cell_type": "code",
   "execution_count": 55,
   "metadata": {},
   "outputs": [],
   "source": [
    "def eval_best_model(model, weights):\n",
    "    \n",
    "    model_architecture = open(os.path.join(model_dir, f'{model}.json'), 'r')\n",
    "    best_model = model_from_json(model_architecture.read())\n",
    "    model_architecture.close()\n",
    "    \n",
    "    best_model.load_weights(os.path.join(model_dir, f'{weights}.hdf5'))\n",
    "    best_model.compile(loss=\"mae\", optimizer=\"rmsprop\")\n",
    "    \n",
    "    perf_best_model = best_model.evaluate_generator(test_data_gen)\n",
    "    \n",
    "    print(f\"loss for {model} is {perf_best_model}\")\n",
    "    \n",
    "    test_inv = scaler.inverse_transform(test[14:])\n",
    "    \n",
    "    pred_inv = scaler.inverse_transform(best_model.predict_generator(test_data_gen))\n",
    "    \n",
    "    mae = mean_absolute_error(test_inv, pred_inv)\n",
    "    \n",
    "    rmse = np.sqrt(mean_squared_error(test_inv, pred_inv))\n",
    "    \n",
    "    print(f\"mae for {model} is {mae}\") \n",
    "    print(f\"rmse for {model} is {rmse}\")\n",
    "    \n",
    "    return None"
   ]
  },
  {
   "cell_type": "code",
   "execution_count": 56,
   "metadata": {},
   "outputs": [
    {
     "name": "stdout",
     "output_type": "stream",
     "text": [
      "loss for simple_rnn is 0.016486040942710518\n",
      "mae for simple_rnn is 0.5447561385848165\n",
      "rmse for simple_rnn is 0.8792085259359762\n"
     ]
    }
   ],
   "source": [
    "eval_best_model('simple_rnn', 'simple_rnn_weights')"
   ]
  },
  {
   "cell_type": "code",
   "execution_count": 57,
   "metadata": {},
   "outputs": [
    {
     "name": "stdout",
     "output_type": "stream",
     "text": [
      "loss for stacked_lstm is 0.015467763873595915\n",
      "mae for stacked_lstm is 0.5111087157953236\n",
      "rmse for stacked_lstm is 0.8619078599978983\n"
     ]
    }
   ],
   "source": [
    "eval_best_model('stacked_lstm', 'stacked_lstm')"
   ]
  },
  {
   "cell_type": "code",
   "execution_count": null,
   "metadata": {},
   "outputs": [],
   "source": []
  }
 ],
 "metadata": {
  "kernelspec": {
   "display_name": "Python 3",
   "language": "python",
   "name": "python3"
  },
  "language_info": {
   "codemirror_mode": {
    "name": "ipython",
    "version": 3
   },
   "file_extension": ".py",
   "mimetype": "text/x-python",
   "name": "python",
   "nbconvert_exporter": "python",
   "pygments_lexer": "ipython3",
   "version": "3.6.5"
  }
 },
 "nbformat": 4,
 "nbformat_minor": 2
}
